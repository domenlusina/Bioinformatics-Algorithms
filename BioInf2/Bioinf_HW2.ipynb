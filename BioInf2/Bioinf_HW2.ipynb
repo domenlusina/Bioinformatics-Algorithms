{
 "cells": [
  {
   "cell_type": "markdown",
   "metadata": {},
   "source": [
    "# Task 2 - Implementation and application of dotplot"
   ]
  },
  {
   "cell_type": "markdown",
   "metadata": {},
   "source": [
    "### 1. Problem\n",
    "\n",
    "A dotplot is an image of black and white pixels of size n x m. We place a sequence of length n and sequence of length m\n",
    "along each axis. For each element that it does match, we place a black pixel. Because we have lots of dots we use a window\n",
    "of size w around pixel p, and we color that pixel only if the number of matches is greater than stringency s.\n",
    "\n",
    "Dotplot is an image from which we can see the similarity of two sequences. Usually, similar subsequences will have a long\n",
    "line in dotplot. Using dotplots we can find highly similar repeating subsequences. However, sequences should not be too long since it is hard to interpret the results on big images.\n"
   ]
  },
  {
   "cell_type": "code",
   "execution_count": 1,
   "metadata": {},
   "outputs": [],
   "source": [
    "import gzip\n",
    "from collections import Counter\n",
    "from matplotlib.pylab import plt\n",
    "import numpy as np\n",
    "import imageio\n",
    "\n",
    "def loadFasta(filename, verbose=0):\n",
    "    \"\"\"\n",
    "    Parses a classically formatted and possibly\n",
    "    compressed FASTA file into a dictionary where the key\n",
    "    for a sequence is the first part of its header without\n",
    "    any white space; if verbose is nonzero then the identifiers\n",
    "    together with lengths of the read sequences are printed\n",
    "    \"\"\"\n",
    "    if filename.endswith(\".gz\"):\n",
    "        fp = gzip.open(filename, 'rt')\n",
    "    else:\n",
    "        fp = open(filename, 'r')\n",
    "    # split at headers\n",
    "    # data = fp.read().split('>')\n",
    "    data = fp.read()\n",
    "    data = data.split('>')\n",
    "    fp.close()\n",
    "    # ignore whatever appears before the 1st header\n",
    "    data.pop(0)\n",
    "    # prepare the dictionary\n",
    "    D = {}\n",
    "    for sequence in data:\n",
    "        lines = sequence.split('\\n')\n",
    "        header = lines.pop(0).split()\n",
    "        key = header[0]\n",
    "        D[key] = ''.join(lines)\n",
    "        if verbose:\n",
    "            print(\"Sequence %s of length %d read\" % (key, len(D[key])))\n",
    "    return D"
   ]
  },
  {
   "cell_type": "code",
   "execution_count": 2,
   "metadata": {},
   "outputs": [],
   "source": [
    "def get_square(s1, s2, i, j, w):\n",
    "    \"\"\"\n",
    "    :param M: dot matrix of w size 1\n",
    "    :param i: x pixel coordinate\n",
    "    :param j: y pixel coordinate\n",
    "    :param w: half of window size w\n",
    "    :return: sum of pairwise same elements in sequences s1 and s2\n",
    "    \"\"\"\n",
    "    return sum(1 if x == y else 0 for x, y in zip(s1[i - w:i + w + 1], s2[j - w:j + w + 1]))"
   ]
  },
  {
   "cell_type": "code",
   "execution_count": 3,
   "metadata": {},
   "outputs": [],
   "source": [
    "def dot_matrix(s1, s2, window, s):\n",
    "    \"\"\"\n",
    "    :param s1: first sequence\n",
    "    :param s2: second sequence\n",
    "    :param window: window size not including pixel on which we put the window\n",
    "    :param s: stringency\n",
    "    :return: dotplot array\n",
    "    \"\"\"\n",
    "    if window % 2:\n",
    "        # we should have even size so left and right side of window from pixel is the same\n",
    "        print(\"WARNING: window size should be even\") \n",
    "    spacing = int(window / 2)\n",
    "    w = len(s1)\n",
    "    h = len(s2)\n",
    "    \n",
    "    M_new = np.array([[get_square(s1, s2, i, j, spacing) > s for j in range(spacing, w - spacing + 1)] for i in\n",
    "                      range(spacing, h - spacing + 1)])\n",
    "    M_new = M_new *255\n",
    "    return M_new.astype(np.uint8)"
   ]
  },
  {
   "cell_type": "code",
   "execution_count": 4,
   "metadata": {},
   "outputs": [],
   "source": [
    "def plot_dot_plot(s1, s2, w, s, name='result.jpg'):\n",
    "    \"\"\"\n",
    "    :param s1: first sequence\n",
    "    :param s2: second sequence\n",
    "    :param w: window size -1\n",
    "    :param s: stringency\n",
    "    :param name: output image name\n",
    "    :return: dotplot image\n",
    "    \"\"\"\n",
    "    M = dot_matrix(s1, s2, w, s)\n",
    "    # we save the image\n",
    "    imageio.imwrite(name, M)\n",
    "    dotplot = plt.imshow(M, cmap='gray')\n",
    "    # remove if we use short sequences - we display elements on axis\n",
    "    # xt = plt.xticks(np.arange(len(list(s1))), list(s1)) \n",
    "    # yt = plt.yticks(np.arange(len(list(s2))), list(s2))\n",
    "    plt.show()"
   ]
  },
  {
   "cell_type": "markdown",
   "metadata": {},
   "source": [
    "### 3. Problem\n",
    "The following task is from the book \"Bioinformatik Interaktiv\" (Merkl und Waack). Using your program compare the following sequence with itself:"
   ]
  },
  {
   "cell_type": "code",
   "execution_count": 5,
   "metadata": {},
   "outputs": [
    {
     "data": {
      "image/png": "[encoded data removed]",
      "text/plain": [
       "<Figure size 432x288 with 1 Axes>"
      ]
     },
     "metadata": {
      "needs_background": "light"
     },
     "output_type": "display_data"
    }
   ],
   "source": [
    "s1 = \"MAAPSRTTLMPPPFRLQLRLLILPILLLLRHDAVHAEPYSGGFGSSAVSSGGLGSVGIHIPGGGVGVITE ARCPRVCSCTGLNVDCSHRGLTSVPRKISADVERLELQGNNLTVIYETDFQRLTKLRMLQLTDNQIHTIE RNSFQDLVSLERLRLNNNRLKAIPENFVTSSASLLRLDISNNVITTVGRRVFKGAQSLRSLQLDNNQITC LDEHAFKGLVELEILTLNNNNLTSLPHNIFGGLGRLRALRLSDNPFACDCHLSWLSRFLRSATRLAPYTR CQSPSQLKGQNVADLHDQEFKCSGLTEHAPMECGAENSCPHPCRCADGIVDCREKSLTSVPVTLPDDTTE LRLEQNFITELPPKSFSSFRRLRRIDLSNNNISRIAHDALSGLKQLTTLVLYGNKIKDLPSGVFKGLGSL QLLLLNANEISCIRKDAFRDLHSLSLLSLYDNNIQSLANGTFDAMKSIKTVHLAKNPFICDCNLRWLADY LHKNPIETSGARCESPKRMHRRRIESLREEKFKCSWDELRMKLSGECRMDSDCPAMCHCEGTTVDCTGRG LKEIPRDIPLHTTELLLNDNELGRISSDGLFGRLPHLVKLELKRNQLTGIEPNAFEGASHIQELQLGENK IKEISNKMFLGLHQLKTLNLYDNQISCVMPGSFEHLNSLTSLNLASNPFNCNCHLAWFAEWLRKKSLNGG AARCGAPSKVRDVQIKDLPHSEFKCSSENSEGCLGDGYCPPSCTCTGTVVRCSRNQLKEIPRGIPAETSE LYLESNEIEQIHYERIRHLRSLTRLDLSNNQITILSNYTFANLTKLSTLIISYNKLQCLQRHALSGLNNL RVLSLHGNRISMLPEGSFEDLKSLTHIALGSNPLYCDCGLKWFSDWIKLDYVEPGIARCAEPEQMKDKLI LSTPSSSFVCRGRVRNDILAKCNACFEQPCQNQAQCVALPQREYQCLCQPGYHGKHCEFMIDACYGNPCR NNATCTVLEEGRFSCQCAPGYTGARCETNIDDCLGEIKCQNNATCIDGVESYKCECQPGFSGEFCDTKIQ FCSPEFNPCANGAKCMDHFTHYSCDCQAGFHGTNCTDNIDDCQNHMCQNGGTCVDGINDYQCRCPDDYTG KYCEGHNMISMMYPQTSPCQNHECKHGVCFQPNAQGSDYLCRCHPGYTGKWCEYLTSISFVHNNSFVELE PLRTRPEANVTIVFSSAEQNGILMYDGQDAHLAVELFNGRIRVSYDVGNHPVSTMYSFEMVADGKYHAVE LLAIKKNFTLRVDRGLARSIINEGSNDYLKLTTPMFLGGLPVDPAQQAYKNWQIRNLTSFKGCMKEVWIN HKLVDFGNAQRQQKITPGCALLEGEQQEEEDDEQDFMDETPHIKEEPVDPCLENKCRRGSRCVPNSNARD GYQCKCKHGQRGRYCDQGEGSTEPPTVTAASTCRKEQVREYYTENDCRSRQPLKYAKCVGGCGNQCCAAK IVRRRKVRMVCSNNRKYIKNLDIVRKCGCTKKCY\"\n",
    "table = str.maketrans({' ': ''})\n",
    "s1 = s1.translate(table)\n",
    "plot_dot_plot(s1, s1, 14, 5, name='result1.jpg')"
   ]
  },
  {
   "cell_type": "markdown",
   "metadata": {},
   "source": [
    "![result1](result1.jpg \"Dotplot from 3rd problem.\")"
   ]
  },
  {
   "cell_type": "code",
   "execution_count": 6,
   "metadata": {
    "scrolled": true
   },
   "outputs": [
    {
     "data": {
      "image/png": "[encoded data removed]",
      "text/plain": [
       "<Figure size 432x288 with 1 Axes>"
      ]
     },
     "metadata": {
      "needs_background": "light"
     },
     "output_type": "display_data"
    },
    {
     "name": "stdout",
     "output_type": "stream",
     "text": [
      "CDCGLKWFSDWIKLDYVEPGIARCAEPEQMKDKLILSTPSSSFVCRGRVRNDILAKCNACFEQPCQNQAQCVALPQREYQCLCQPGYHGKHCEFMIDACYGNPCRNNATCTVLEEGRFSCQCAPGYTGARCETNIDDCLGEIKCQNNATCIDGVESYKCECQPGFSGEFCDTKIQFCSPEFNPCANGAKCMDHFTHYSCDCQAGFHGTNCTDNIDDCQNHMCQNGGTCVDGINDYQCRCPDDYTGKYCEGHNMISMMYPQTSPCQNHECKHGVCFQPNAQGSDYLCRCHPGYTGKWCEYLTSISFVHNNSFVELEPLRTRPEANVTIVFSSAEQNGILMYDGQDAHLAVE\n"
     ]
    }
   ],
   "source": [
    "# restricting sequence to relative parts\n",
    "plot_dot_plot(s1[875:1225], s1[875:1225], 14, 5, name='result2.jpg')\n",
    "print(s1[875:1225])"
   ]
  },
  {
   "cell_type": "markdown",
   "metadata": {},
   "source": [
    "![result2](result2.jpg \"Restricted dotplot\")"
   ]
  },
  {
   "cell_type": "markdown",
   "metadata": {},
   "source": [
    "\n",
    "Parallel lines indicate tandem repeats of a larger motif in both sequences, so called minisatellite patterns.\n",
    "I used [RADAR](https://www.ebi.ac.uk/Tools/pfa/radar/) to identify gapped approximate repeats and complex repeat architectures.\n",
    "Results can be seen in the image bellow.\n",
    "![alt text](radar.png \"\")"
   ]
  },
  {
   "cell_type": "markdown",
   "metadata": {},
   "source": [
    "### 4. Problem\n",
    "Sequence belongs to Homo sapiens - human"
   ]
  },
  {
   "cell_type": "code",
   "execution_count": null,
   "metadata": {},
   "outputs": [],
   "source": [
    "D = loadFasta('NM_000044.fasta')\n",
    "hs_seq = D[list(D.keys())[0]]\n",
    "\n",
    "i = 10\n",
    "plot_dot_plot(hs_seq, hs_seq, 25 - 1, i, name='homo_sapiens' + str(i) + '.jpg')"
   ]
  },
  {
   "cell_type": "markdown",
   "metadata": {},
   "source": [
    "Bold blocks on the main diagonal indicate repetition of the same symbol in both sequences, so called microsatellite repeats. We can notice two blocks on an image bellow marked with red frames. \n",
    "![homo sapiens](homo_sapiens10_marked.jpg \"Dotplot of Homo sapiens androgen receptor\")"
   ]
  },
  {
   "cell_type": "code",
   "execution_count": 13,
   "metadata": {},
   "outputs": [
    {
     "name": "stdout",
     "output_type": "stream",
     "text": [
      "First block:\n",
      "GGTCTTCAGTAGCCAAAAAACAAAACAAACAAAAACAAAAAAGCCGAAAT\n",
      "Second block:\n",
      "GAGCTAAGATTATCTGGGGAAATCAAAACAAAAACAAGCAAACAAAAAAAAAAAGCAAAAACAAAACAAAAAATAAGCCAAAAAACCTTGCTAGTGTTTTTTCCTCAAAAATAAATAAATAAATAAATAAATACGTACATACATACACACATACATACAAACATATAGAA\n"
     ]
    }
   ],
   "source": [
    "print(\"First block:\")\n",
    "print(hs_seq[100:150])\n",
    "print(\"Second block:\")\n",
    "print(hs_seq[3680:3850])"
   ]
  },
  {
   "cell_type": "markdown",
   "metadata": {},
   "source": [
    "In first and second subsequence we notice a lot of repeats of adenine. We can also notice a lot of repeats of subsequence CAAAA."
   ]
  },
  {
   "cell_type": "markdown",
   "metadata": {},
   "source": [
    "### 5. Problem \n",
    "Globins are proteins, which bind and transport oxygen. Recently there was found one such protein in nine-banded armadillo (Dasypus novemcinctus) - see the picture below - using a similarity test.\n",
    "\n",
    "![armadilo](armadilo.jpg \"Armadillo\")"
   ]
  },
  {
   "cell_type": "code",
   "execution_count": 14,
   "metadata": {},
   "outputs": [
    {
     "name": "stdout",
     "output_type": "stream",
     "text": [
      "Similarity score of protein sequences (first 107 elements) is 97\n"
     ]
    }
   ],
   "source": [
    "s1 = 'MESPEPELIRQSWRVVSRSPLEHGTILFARLFDLEPDLLSLFQYNCRQFSSVEACLSSPEFLDHIRKVMVVIDTAVTNVEDLSSLEEYLAGLGRKHRAVGVKLSSFSEIQERQWDLLQVIRRKQPEKSRRVCRVKGGSSGRALQPDPRQHLDLGQVLLHQRREPRGAPSPPQYLGRTLSPGAPAVPPEQPSPLGHPLLPCAPR'\n",
    "s2 = 'MERPEPELIRQSWRAVSRSPLEHGTVLFARLFALEPDLLPLFQYNCRQFSSPEDCLSSPEFLDHIRKVMLVIDAAVTNVEDLSSLEEYLASLGRKHRAVGVKLSSFSTVGESLLYMLEKCLGPAFTPATRAAWSQLYGAVVQAMSRGWDGE'\n",
    "\n",
    "def sim_score(s1, s2):\n",
    "    score = 0\n",
    "    for x, y in zip(s1, s2):\n",
    "        if x == y:\n",
    "            score += 1\n",
    "    return score\n",
    "print('Similarity score of protein sequences (first 107 elements) is '+str(sim_score(s1[:107], s2[:107])))"
   ]
  },
  {
   "cell_type": "code",
   "execution_count": 15,
   "metadata": {},
   "outputs": [
    {
     "data": {
      "image/png": "[encoded data removed]",
      "text/plain": [
       "<Figure size 432x288 with 1 Axes>"
      ]
     },
     "metadata": {
      "needs_background": "light"
     },
     "output_type": "display_data"
    }
   ],
   "source": [
    "plot_dot_plot(s1, s2, 10, 5, name='globins.jpg')"
   ]
  },
  {
   "cell_type": "markdown",
   "metadata": {},
   "source": [
    "Length of longest highly common subsequence is 107 and there are 97 matching amino acids.\n",
    "![globins](globins.jpg \"Comparing globins\")"
   ]
  },
  {
   "cell_type": "markdown",
   "metadata": {},
   "source": [
    "### 6. Problem \n",
    "HIV dotplot\n",
    "![alt text](hiv.png \"HIV dotplot\") \n",
    "\n",
    "Parallels to the main diagonal indicate repeated regions in the same reading direction on different parts of the sequences. Repeated subsequences are displayed bellow."
   ]
  },
  {
   "cell_type": "code",
   "execution_count": 16,
   "metadata": {},
   "outputs": [
    {
     "name": "stdout",
     "output_type": "stream",
     "text": [
      "TGGAAGGGCTAATTCACTCCCAACGAAGACAAGATATCCTTGATCTGTGGATCTACCACACACAAGGCTACTTCCCTGATTGGCAGAACTACACACCAGGACCAGGGATCAGATATCCACTGACCTTTGGATGGTGCTACAAGCTAGTACCAGTTGAGCCAGATAAGGTAGAAGAGGCCAACAAAGGAGAGAACACCAGCTTGTTACACCCTGTGAGCCTGCATGGAATGGATGACCCGGAGAGAGAAGTGTTAGAGTGGAGGTTTGACAGCCGCCTAGCATTTCATCACGTGGCCCGAGAGCTGCATCCGGAGTACTTCAAGAACTGCTGATATCGAGCTTGCTACAAGGGACTTTCCGCTGGGGACTTTCCAGGGAGGCGTGGCCTGGGCGGGACTGGGGAGTGGCGAGCCCTCAGATGCTGCATATAAGCAGCTGCTTTTTGCCTGTACTGGGTCTCTCTGGTTAGACCAGATCTGAGCCTGGGAGCTCTCTGGCTAACTAGGGAACCCACTGCTTAAGCCTCAATAAAGCTTGCCTTGAGTGCTTCAAGTAGTGTGTGCCCGTCTGTTGTGTGACTCTGGTAACTAGAGATCCCTCAGACCCTTTTAGTCAGTGTGGAAAATCTCTAGCAGTGG\n",
      "TGGAAGGGCTAATTCACTCCCAACGAAGACAAGATATCCTTGATCTGTGGATCTACCACACACAAGGCTACTTCCCTGATTGGCAGAACTACACACCAGGACCAGGGATCAGATATCCACTGACCTTTGGATGGTGCTACAAGCTAGTACCAGTTGAGCCAGATAAGGTAGAAGAGGCCAACAAAGGAGAGAACACCAGCTTGTTACACCCTGTGAGCCTGCATGGAATGGATGACCCGGAGAGAGAAGTGTTAGAGTGGAGGTTTGACAGCCGCCTAGCATTTCATCACGTGGCCCGAGAGCTGCATCCGGAGTACTTCAAGAACTGCTGATATCGAGCTTGCTACAAGGGACTTTCCGCTGGGGACTTTCCAGGGAGGCGTGGCCTGGGCGGGACTGGGGAGTGGCGAGCCCTCAGATGCTGCATATAAGCAGCTGCTTTTTGCCTGTACTGGGTCTCTCTGGTTAGACCAGATCTGAGCCTGGGAGCTCTCTGGCTAACTAGAGAACCCACTGCTTAAGCCTCAATAAAGCTTGCCTTGAGTGCTTCAAGTAGTGTGTGCCCGTCTGTTGTGTGACTCTGGTAACTAGAGATCCCTCAGACCCTTTTAGTCAGTGTGGAAAATCTCTAGCAGTGG\n"
     ]
    }
   ],
   "source": [
    "D = loadFasta('hiv.fasta')\n",
    "hiv_seq = D[list(D.keys())[0]]\n",
    "print(hiv_seq[9:647])\n",
    "print(hiv_seq[-643:-5])"
   ]
  },
  {
   "cell_type": "code",
   "execution_count": null,
   "metadata": {},
   "outputs": [],
   "source": []
  }
 ],
 "metadata": {
  "kernelspec": {
   "display_name": "Python 3",
   "language": "python",
   "name": "python3"
  },
  "language_info": {
   "codemirror_mode": {
    "name": "ipython",
    "version": 3
   },
   "file_extension": ".py",
   "mimetype": "text/x-python",
   "name": "python",
   "nbconvert_exporter": "python",
   "pygments_lexer": "ipython3",
   "version": "3.5.0"
  }
 },
 "nbformat": 4,
 "nbformat_minor": 2
}
