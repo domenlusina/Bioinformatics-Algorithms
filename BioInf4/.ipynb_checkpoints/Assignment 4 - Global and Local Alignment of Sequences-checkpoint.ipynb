{
 "cells": [
  {
   "cell_type": "code",
   "execution_count": 1,
   "metadata": {},
   "outputs": [],
   "source": [
    "import gzip\n",
    "\n",
    "import numpy as np\n",
    "\n",
    "\n",
    "def load_fasta(filename, verbose=0):\n",
    "    \"\"\"\n",
    "    Parses a classically formatted and possibly\n",
    "    compressed FASTA file into a dictionary where the key\n",
    "    for a sequence is the first part of its header without\n",
    "    any white space; if verbose is nonzero then the identifiers\n",
    "    together with lengths of the read sequences are printed\n",
    "    \"\"\"\n",
    "    if filename.endswith(\".gz\"):\n",
    "        fp = gzip.open(filename, 'rt')\n",
    "    else:\n",
    "        fp = open(filename, 'r')\n",
    "    # split at headers\n",
    "    # data = fp.read().split('>')\n",
    "    data = fp.read()\n",
    "    data = data.split('>')\n",
    "    fp.close()\n",
    "    # ignore whatever appears before the 1st header\n",
    "    data.pop(0)\n",
    "    # prepare the dictionary\n",
    "    D = {}\n",
    "    for sequence in data:\n",
    "        lines = sequence.split('\\n')\n",
    "        header = lines.pop(0).split()\n",
    "        key = header[0]\n",
    "        D[key] = ''.join(lines)\n",
    "        if verbose:\n",
    "            print(\"Sequence %s of length %d read\" % (key, len(D[key])))\n",
    "    return D"
   ]
  },
  {
   "cell_type": "markdown",
   "metadata": {},
   "source": [
    "#### 1. Global and Local Alignment  \n",
    "  \n",
    "  I implemented salutation for global and local alignment as described in the lectures. For global alignment I implemented Needlemen-Wunsh algorithm which is based on dynamic programming. Given two sequences seqA and seqB we initialize a matrix F of size (n+1)x(m+1), where n is length of seqA and m length of seqB.  \n",
    "  Let d be a gap penalty we will set the F[i,0] = -id, i=0, ..., n and F[0, j] = -jd, j=0, ..., m. The rest of the fields in the matrix are calculated recursively using the following rule:\n",
    "\n",
    "      F[i, j]= max(\n",
    "          F[i-1, j-1] + s[seqA[i-1], seqB[j-1]]  \n",
    "          F[i-1, j] + d  \n",
    "          F[i, j-1] + d  \n",
    "          )\n",
    "Score of the alignment can be found in F[n, m].\n",
    "  \n",
    "  For local alignment we use Smith-Watermann algorithm, which is very similar to previous algorithm, the difference is that we cannot have negative values inside the matrix F. And for the score we return the maximum value in matrix F."
   ]
  },
  {
   "cell_type": "code",
   "execution_count": 2,
   "metadata": {},
   "outputs": [],
   "source": [
    "def NeedlemanWunsh(seqA, seqB, match, mismatch, gap):\n",
    "    \"\"\"\n",
    "\n",
    "    :param seqA: string with the first sequence\n",
    "    :param seqB: string with the second sequence\n",
    "    :param match: a positive score when two symbols match\n",
    "    :param mismatch: a negative penalty for mismatch\n",
    "    :param gap: a negative penalty for a gap of length 1\n",
    "    :return: the score of global alignment of the sequences seqA and seqB\n",
    "    \"\"\"\n",
    "\n",
    "    n = len(seqA) + 1\n",
    "    m = len(seqB) + 1\n",
    "\n",
    "    F = np.zeros((n, m))\n",
    "\n",
    "    for i in range(1, n):\n",
    "        F[i, 0] = i * gap\n",
    "\n",
    "    for j in range(1, m):\n",
    "        F[0, j] = j * gap\n",
    "        \n",
    "    for i in range(1, n):\n",
    "        for j in range(1, m):\n",
    "            F[i, j] = max([\n",
    "                F[i - 1, j - 1] + (seqA[i - 1] != seqB[j - 1]) * mismatch + (seqA[i - 1] == seqB[j - 1]) * match,\n",
    "                F[i - 1, j] + gap,\n",
    "                F[i, j - 1] + gap\n",
    "            ])\n",
    "\n",
    "    return F[n - 1, m - 1]\n"
   ]
  },
  {
   "cell_type": "code",
   "execution_count": 3,
   "metadata": {},
   "outputs": [],
   "source": [
    "def SmithWatermann(seqA, seqB, match, mismatch, gap):\n",
    "    \"\"\"\n",
    "\n",
    "    :param seqA: string with the first sequence\n",
    "    :param seqB: string with the second sequence\n",
    "    :param match: a positive score when two symbols match\n",
    "    :param mismatch: a negative penalty for mismatch\n",
    "    :param gap: a negative penalty for a gap of length 1\n",
    "    :return: the score of global alignment of the sequences seqA and seqB\n",
    "    \"\"\"\n",
    "    n = len(seqA) + 1\n",
    "    m = len(seqB) + 1\n",
    "\n",
    "    F = np.zeros((n, m))\n",
    "\n",
    "    for i in range(1, n):\n",
    "        for j in range(1, m):\n",
    "            F[i, j] = max([\n",
    "                0,\n",
    "                F[i - 1, j - 1] + (seqA[i - 1] != seqB[j - 1]) * mismatch + (seqA[i - 1] == seqB[j - 1]) * match,\n",
    "                F[i - 1, j] + gap,\n",
    "                F[i, j - 1] + gap\n",
    "            ])\n",
    "\n",
    "    return F.max()"
   ]
  },
  {
   "cell_type": "code",
   "execution_count": 4,
   "metadata": {},
   "outputs": [
    {
     "name": "stdout",
     "output_type": "stream",
     "text": [
      "Needleman-Wunsh global alignment: \n",
      "H-I score: -214.0\n",
      "H-J score: -206.0\n",
      "I-J score: 1020.0\n"
     ]
    }
   ],
   "source": [
    "H = load_fasta('H.fasta')['seq']\n",
    "I = load_fasta('I.fasta')['seq']\n",
    "J = load_fasta('J.fasta')['seq']\n",
    "\n",
    "match = 1\n",
    "mismatch = -1\n",
    "gap = -2\n",
    "\n",
    "print('Needleman-Wunsh global alignment: ')\n",
    "r1 = NeedlemanWunsh(H, I, match, mismatch, gap)\n",
    "print('H-I score: '+str(r1))\n",
    "r2 = NeedlemanWunsh(H, J, match, mismatch, gap)\n",
    "print('H-J score: '+str(r2))\n",
    "r3 = NeedlemanWunsh(I, J, match, mismatch, gap)\n",
    "print('I-J score: '+str(r3))"
   ]
  },
  {
   "cell_type": "code",
   "execution_count": 5,
   "metadata": {},
   "outputs": [
    {
     "name": "stdout",
     "output_type": "stream",
     "text": [
      "Smith-Watermann local alignment: \n",
      "H-I score: 1292.0\n",
      "H-J score: 727.0\n",
      "I-J score: 1042.0\n"
     ]
    }
   ],
   "source": [
    "print('Smith-Watermann local alignment: ')\n",
    "r4 = SmithWatermann(H, I, match, mismatch, gap)\n",
    "print('H-I score: '+str(r4))\n",
    "r5 = SmithWatermann(H, J, match, mismatch, gap)\n",
    "print('H-J score: '+str(r5))\n",
    "r6 = SmithWatermann(I, J, match, mismatch, gap)\n",
    "print('I-J score: '+str(r6))"
   ]
  },
  {
   "cell_type": "markdown",
   "metadata": {},
   "source": [
    "#### 2. Needleman-Wunsch Algorithm with Affine Gap Penalty  \n",
    "The idea of this algorithm is that penalty for gap insertion and gap extention should not be the same. Instead of using one matrix F we will use 3 matrices M, Ix, Iy, where:\n",
    "*  M[i, j] is the best score up to [i, j] given seqA[i] is aligned to seqB[j]\n",
    "* Ix[i, j] is the best score up to [i, j] given seqB[j] is aligned to a gap\n",
    "* Iy[i, j] is the best score up to [i, j] given seqA[i] is aligned to a gap in seqB.  \n",
    "\n",
    "Let d be the penalty of opening a gap and e a penalty of extending a gap.\n",
    "We initialize the matrices as follow:\n",
    "*  M[0, 0] = 0, Ix[0, 0] = Iy[0, 0] = -inf\n",
    "*  Ix[0, j] = d + (j-1)e,  M[0, j] = Iy[0, j] = -inf ; j = 1, ..., m\n",
    "*  Iy[i, 0] = d + (i-1)e,  M[i, 0] = Ix[i, 0] = -inf ; i = 1, ..., n\n",
    "  \n",
    "  For the rest of the fields we recursively calculate them using the following equations:  \n",
    "  * Ix[i, j]=max( M[i, j-1] + d, Ix[i, j-1] + e) \n",
    "  * Iy[i, j]=max( M[i-1, j] + d, Iy[i-1, j] + e) \n",
    "  * M[i, j]=s(seqA[i-1], seq[j-1]) + max( M[i-1, j-1], Ix[i-1, j-1], Iy[i-1, j-1]) \n",
    "  \n",
    "  Score is the maximum value in the bottom right corner of matrices M, Ix and Iy.\n"
   ]
  },
  {
   "cell_type": "code",
   "execution_count": 6,
   "metadata": {},
   "outputs": [],
   "source": [
    "def NWAffine(seqA, seqB, match, mismatch, gapopen, gapext):\n",
    "    \"\"\"\n",
    "\n",
    "    :param seqA: string with the first sequence\n",
    "    :param seqB: string with the second sequence\n",
    "    :param match: a positive score when two symbols match\n",
    "    :param mismatch: a negative penalty for mismatch\n",
    "    :param gapopen: a negative penalty for opening a gap\n",
    "    :param gapext: a negative penalty for a gap extension\n",
    "    :return: the score of global alignment of the sequences seqA and seqB\n",
    "    \"\"\"\n",
    "\n",
    "    n = len(seqA) + 1\n",
    "    m = len(seqB) + 1\n",
    "\n",
    "    M = np.zeros((n, m))\n",
    "    Ix = np.zeros((n, m))\n",
    "    Iy = np.zeros((n, m))\n",
    "\n",
    "    for i in range(1, n):\n",
    "        Iy[i, 0] = gapopen + (i - 1) * gapext\n",
    "        M[i, 0] = Ix[i, 0] = -np.inf\n",
    "\n",
    "    for j in range(1, m):\n",
    "        Ix[0, j] = gapopen + (j - 1) * gapext\n",
    "        M[0, j] = Iy[0, j] = -np.inf\n",
    "\n",
    "    for i in range(1, n):\n",
    "        for j in range(1, m):\n",
    "            Ix[i, j] = max([\n",
    "                M[i, j - 1] + gapopen,\n",
    "                Ix[i, j - 1] + gapext\n",
    "            ])\n",
    "\n",
    "            Iy[i, j] = max([\n",
    "                M[i - 1, j] + gapopen,\n",
    "                Iy[i - 1, j] + gapext\n",
    "            ])\n",
    "\n",
    "            M[i, j] = max([\n",
    "                M[i - 1, j - 1],\n",
    "                Ix[i - 1, j - 1],\n",
    "                Iy[i - 1, j - 1]\n",
    "            ]) + (seqA[i - 1] != seqB[j - 1]) * mismatch + (seqA[i - 1] == seqB[j - 1]) * match\n",
    "\n",
    "    return max([M[- 1, - 1], Ix[-1, -1], Iy[-1, -1]])"
   ]
  },
  {
   "cell_type": "code",
   "execution_count": 7,
   "metadata": {},
   "outputs": [
    {
     "name": "stdout",
     "output_type": "stream",
     "text": [
      "Homo sapiens insulin-Mus musculus insulin II score: 207.0\n",
      "Homo sapiens insulin-Rattus norvegicus insulin 1 score: 215.0\n",
      "Mus musculus insulin II-Rattus norvegicus insulin 1 score: 323.0\n"
     ]
    }
   ],
   "source": [
    "match = 1\n",
    "mismatch = -1\n",
    "gapopen = -2\n",
    "gapext = -1\n",
    "\n",
    "Homo = list(load_fasta('Homo.fasta').values())[0]\n",
    "Mus = list(load_fasta('Mus.fasta').values())[0]\n",
    "Rattus = list(load_fasta('Rattus.fasta').values())[0]\n",
    "\n",
    "r7 = NWAffine(Homo, Mus, match, mismatch, gapopen, gapext)\n",
    "r8 = NWAffine(Homo, Rattus, match, mismatch, gapopen, gapext)\n",
    "r9 = NWAffine(Mus, Rattus, match, mismatch, gapopen, gapext)\n",
    "print('Homo sapiens insulin-Mus musculus insulin II score: '+str(r7))\n",
    "print('Homo sapiens insulin-Rattus norvegicus insulin 1 score: '+str(r8))\n",
    "print('Mus musculus insulin II-Rattus norvegicus insulin 1 score: '+str(r9))"
   ]
  },
  {
   "cell_type": "code",
   "execution_count": null,
   "metadata": {},
   "outputs": [],
   "source": []
  }
 ],
 "metadata": {
  "kernelspec": {
   "display_name": "Python 3",
   "language": "python",
   "name": "python3"
  },
  "language_info": {
   "codemirror_mode": {
    "name": "ipython",
    "version": 3
   },
   "file_extension": ".py",
   "mimetype": "text/x-python",
   "name": "python",
   "nbconvert_exporter": "python",
   "pygments_lexer": "ipython3",
   "version": "3.5.0"
  }
 },
 "nbformat": 4,
 "nbformat_minor": 2
}
